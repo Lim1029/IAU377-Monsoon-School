{
 "cells": [
  {
   "cell_type": "code",
   "execution_count": 18,
   "metadata": {},
   "outputs": [],
   "source": [
    "# create a class for earth\n",
    "class Earth:\n",
    "    def __init__(self, mass, radius, x, y):\n",
    "        self.mass = mass\n",
    "        self.radius = radius\n",
    "        self.x = x\n",
    "        self.y = y\n",
    "        # self.pos\n",
    "\n",
    "class Moon:\n",
    "    def __init__(self, mass, radius, x, y, theta, r):\n",
    "        self.mass = mass\n",
    "        self.radius = radius\n",
    "        self.x = x\n",
    "        self.y = y\n",
    "        self.theta = theta\n",
    "        self.r = r"
   ]
  },
  {
   "cell_type": "code",
   "execution_count": 22,
   "metadata": {},
   "outputs": [
    {
     "data": {
      "text/plain": [
       "[<matplotlib.lines.Line2D at 0x298f5664d00>]"
      ]
     },
     "execution_count": 22,
     "metadata": {},
     "output_type": "execute_result"
    },
    {
     "data": {
      "image/png": "[encoded data removed]",
      "text/plain": [
       "<Figure size 640x480 with 1 Axes>"
      ]
     },
     "metadata": {},
     "output_type": "display_data"
    }
   ],
   "source": [
    "import matplotlib.pyplot as plt\n",
    "\n",
    "# plot the moon\n",
    "Moon1 = Moon(7.34767309e22, 1737.4e3, 384400e3, 0)\n",
    "Earth1 = Earth(5.972e24, 6371e3, 0, 0)\n",
    "\n",
    "# plot the earth\n",
    "plt.plot(Earth1.x, Earth1.y, 'o', color='blue', markersize=Earth1.radius/1e5)\n",
    "plt.plot(Moon1.x, Moon1.y, 'o', color='gray', markersize=Moon1.radius/1e5)\n",
    "plt.xlim(-600e6, 600e6)\n",
    "\n",
    "# orbit equation "
   ]
  },
  {
   "attachments": {},
   "cell_type": "markdown",
   "metadata": {},
   "source": [
    "Applying the equation of **Orbital Position as a Functon of Time (Curtis, 2020)**  \n",
    "  \n",
    "  \n",
    "$\\frac{\\mu^2}{h^3}t=\\int_{0}^{\\theta} \\frac{1}{(1+e\\cos\\vartheta)^2} dx$"
   ]
  },
  {
   "attachments": {},
   "cell_type": "markdown",
   "metadata": {},
   "source": [
    "Applying the equation of **Orbital Position as a Functon of Time (Curtis, 2020)** for circular orbit  \n",
    "  \n",
    "  \n",
    "$t=\\frac{r^{3/2}}{\\mu}\\theta$\n",
    "\n",
    "$\\mu=G(m_1+m_2)$"
   ]
  },
  {
   "cell_type": "code",
   "execution_count": 9,
   "metadata": {},
   "outputs": [],
   "source": [
    "def mu(m1, m2):\n",
    "    return 6.67408e-11*(m1+m2)\n",
    "\n",
    "def theta(r,m1,m2,t):\n",
    "    _mu = mu(m1,m2)\n",
    "    return _mu*t/r**(3/2)"
   ]
  },
  {
   "cell_type": "code",
   "execution_count": 51,
   "metadata": {},
   "outputs": [
    {
     "name": "stdout",
     "output_type": "stream",
     "text": [
      "0.0\n",
      "386000000.0 0.0\n"
     ]
    },
    {
     "data": {
      "text/plain": [
       "0"
      ]
     },
     "execution_count": 51,
     "metadata": {},
     "output_type": "execute_result"
    },
    {
     "data": {
      "image/png": "[encoded data removed]",
      "text/plain": [
       "<Figure size 640x480 with 2 Axes>"
      ]
     },
     "metadata": {},
     "output_type": "display_data"
    }
   ],
   "source": [
    "import matplotlib.pyplot as plt\n",
    "from matplotlib.widgets import Slider\n",
    "import numpy as np\n",
    "# create a class for earth\n",
    "class Earth:\n",
    "    def __init__(self, mass, radius, x, y):\n",
    "        self.mass = mass\n",
    "        self.radius = radius\n",
    "        self.x = x\n",
    "        self.y = y\n",
    "        # self.pos\n",
    "\n",
    "class Moon:\n",
    "    def __init__(self, mass, radius, x, y, theta, r):\n",
    "        self.mass = mass\n",
    "        self.radius = radius\n",
    "        self.x = x\n",
    "        self.y = y\n",
    "        self.theta = theta\n",
    "        self.r = r\n",
    "\n",
    "def mu(m1, m2):\n",
    "    return 6.67408e-11*(m1+m2)\n",
    "\n",
    "def theta(r,m1,m2,t):\n",
    "    _mu = mu(m1,m2)\n",
    "    return _mu*t/r**(3/2)\n",
    "# plot the moon\n",
    "Moon1 = Moon(7.34767309e22, 1737.4e3, 384400e3, 0,0,3.86e8)\n",
    "Earth1 = Earth(5.972e24, 6371e3, 0, 0)\n",
    "\n",
    "t = 0\n",
    "Moon1.theta = theta(Moon1.r, Earth1.mass, Moon1.mass,t)\n",
    "print(Moon1.theta)\n",
    "Moon1.x = Moon1.r*np.cos(Moon1.theta)\n",
    "Moon1.y = Moon1.r*np.sin(Moon1.theta)\n",
    "\n",
    "print(Moon1.x, Moon1.y)\n",
    "\n",
    "\n",
    "# plot the earth\n",
    "fig, ax = plt.subplots()\n",
    "ax.plot(Earth1.x, Earth1.y, 'o', color='blue', markersize=Earth1.radius/1e5)\n",
    "line, = ax.plot(Moon1.x, Moon1.y, 'o', color='gray', markersize=Moon1.radius/1e5)\n",
    "ax.axis(xmin=-600e6,xmax=600e6,ymin=-600e6,ymax=600e6)\n",
    "\n",
    "fig.subplots_adjust(bottom=0.25)\n",
    "\n",
    "axfreq = fig.add_axes([0.25, 0.1, 0.65, 0.03])\n",
    "time_slider = Slider(\n",
    "    ax=axfreq,\n",
    "    valmin=0,\n",
    "    valmax=30,\n",
    "    valinit=0,\n",
    "    label='Time',\n",
    ")\n",
    "def update(val):\n",
    "    t = time_slider.val\n",
    "    t = 0\n",
    "    Moon1.theta = theta(Moon1.r, Earth1.mass, Moon1.mass,t)\n",
    "    Moon1.x = Moon1.r*np.cos(Moon1.theta)\n",
    "    Moon1.y = Moon1.r*np.sin(Moon1.theta)\n",
    "    line.set_ydata(Moon1.y)\n",
    "    line.set_xdata(Moon1.x)\n",
    "    fig.canvas.draw_idle()\n",
    "\n",
    "time_slider.on_changed(update)"
   ]
  },
  {
   "attachments": {},
   "cell_type": "markdown",
   "metadata": {},
   "source": [
    "The code below plots the simulation in bokeh"
   ]
  },
  {
   "cell_type": "code",
   "execution_count": 9,
   "metadata": {},
   "outputs": [],
   "source": [
    "# importing all necessary libraries\n",
    "from bokeh.io import show\n",
    "from bokeh.plotting import figure\n",
    "from bokeh.models import ColumnDataSource\n",
    "from bokeh.models.widgets import Slider\n",
    "from bokeh.layouts import column, row\n",
    "from bokeh.models import CustomJS\n",
    "import numpy as np"
   ]
  },
  {
   "cell_type": "code",
   "execution_count": 18,
   "metadata": {},
   "outputs": [],
   "source": [
    "# create classes and functions\n",
    "\n",
    "class Earth:\n",
    "    def __init__(self, mass, radius, x, y):\n",
    "        self.mass = mass\n",
    "        self.radius = radius\n",
    "        self.x = x\n",
    "        self.y = y\n",
    "        # self.pos\n",
    "\n",
    "class Moon:\n",
    "    def __init__(self, mass, radius, x, y, theta, r, t=0):\n",
    "        self.mass = mass\n",
    "        self.radius = radius\n",
    "        self.x = x\n",
    "        self.y = y\n",
    "        self.theta = theta\n",
    "        self.r = r\n",
    "        self.t = t\n",
    "\n",
    "def mu(m1, m2):\n",
    "    return 6.67408e-11*(m1+m2)\n",
    "\n",
    "def theta(r,m1,m2,t):\n",
    "    _mu = mu(m1,m2)\n",
    "    return _mu**(1/2)*t/r**(3/2)"
   ]
  },
  {
   "cell_type": "code",
   "execution_count": 25,
   "metadata": {},
   "outputs": [],
   "source": [
    "Moon1 = Moon(7.34767309e22, 1737.4e3, 384400e3, 0,0,3.86e8)\n",
    "Earth1 = Earth(5.972e24, 6371e3, 0, 0)\n",
    "\n",
    "t = 0\n",
    "Moon1.theta = theta(Moon1.r, Earth1.mass, Moon1.mass,t)\n",
    "Moon1.x = Moon1.r*np.cos(Moon1.theta)\n",
    "Moon1.y = Moon1.r*np.sin(Moon1.theta)\n",
    "\n",
    "# Define the plot\n",
    "p = figure(x_range=(-600e6, 600e6), y_range=(-600e6, 600e6))\n",
    "# p.xgrid.grid_line_color = None\n",
    "# p.ygrid.grid_line_color = None\n",
    "# p.axis.visible = False\n",
    "\n",
    "# Plot the earth\n",
    "earth_source = ColumnDataSource(data=dict(x=[Earth1.x], y=[Earth1.y]))\n",
    "p.circle(x=\"x\", y=\"y\", source=earth_source, size=Earth1.radius/1e5, color='blue')\n",
    "\n",
    "# Plot the moon\n",
    "moon_source = ColumnDataSource(data=dict(x=[Moon1.x], y=[Moon1.y]))\n",
    "p.circle(x=\"x\", y=\"y\", source=moon_source, size=Moon1.radius/1e5, color='gray')\n",
    "\n",
    "#create sliders\n",
    "time_slider = Slider(start=0, end=30, value=0, step=1, title=\"Time (days)\")\n",
    "m_earth_slider = Slider(start=1, end=10, value=5.97, step=0.1, title=\"Earth Mass (e24 kg)\")\n",
    "m_moon_slider = Slider(start=1, end=10, value=7.34, step=0.1, title=\"Moon Mass (e24 kg)\")\n",
    "\n",
    "callback = CustomJS(args=dict(source=moon_source, time=time_slider, m_earth=m_earth_slider, m_moon=m_moon_slider),\n",
    "                    code=\"\"\"\n",
    "    const data = source.data;\n",
    "    const t = time.value;\n",
    "    const m_earth = m_earth.value;\n",
    "    const m_moon = m_moon.value;\n",
    "    print(t,m_earth,m_moon)\n",
    "    source.change.emit();\n",
    "\"\"\")\n",
    "\n",
    "time_slider.js_on_change('value', callback)\n",
    "m_earth_slider.js_on_change('value', callback)\n",
    "m_moon_slider.js_on_change('value', callback)\n",
    "\n",
    "layout = row(\n",
    "    p, \n",
    "    column(time_slider, m_earth_slider, m_moon_slider))\n",
    "\n",
    "show(layout)"
   ]
  },
  {
   "cell_type": "code",
   "execution_count": null,
   "metadata": {},
   "outputs": [],
   "source": []
  }
 ],
 "metadata": {
  "kernelspec": {
   "display_name": "base",
   "language": "python",
   "name": "python3"
  },
  "language_info": {
   "codemirror_mode": {
    "name": "ipython",
    "version": 3
   },
   "file_extension": ".py",
   "mimetype": "text/x-python",
   "name": "python",
   "nbconvert_exporter": "python",
   "pygments_lexer": "ipython3",
   "version": "3.9.13"
  },
  "orig_nbformat": 4,
  "vscode": {
   "interpreter": {
    "hash": "bc6e780a41162e5c2fc5d77940d3abddd097c0d169599c5da162d3157e8ba816"
   }
  }
 },
 "nbformat": 4,
 "nbformat_minor": 2
}
